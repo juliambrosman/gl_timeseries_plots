{
 "cells": [
  {
   "cell_type": "code",
   "execution_count": 3,
   "metadata": {
    "collapsed": true
   },
   "outputs": [],
   "source": [
    "from __future__ import print_function\n",
    "import glob\n",
    "import subprocess\n",
    "import itertools\n",
    "import os\n",
    "\n",
    "from skbio.alignment import Alignment\n",
    "from skbio.sequence import DNA\n",
    "import seaborn as sns\n",
    "import matplotlib.pyplot as plt\n",
    "import numpy as np\n",
    "from itolapi import Itol, ItolExport\n",
    "from IPython.display import Image\n",
    "%matplotlib inline"
   ]
  },
  {
   "cell_type": "code",
   "execution_count": 4,
   "metadata": {
    "collapsed": false
   },
   "outputs": [],
   "source": [
    "def read_fasta(file_handle):\n",
    "    for header, group in itertools.groupby(file_handle, lambda line: line[0] == '>'):\n",
    "        if header:\n",
    "            line = group.next()\n",
    "            name = line[1:].strip()\n",
    "        else:\n",
    "            seq = ''.join(line.strip() for line in group)\n",
    "            yield name, seq\n",
    "\n",
    "if os.path.exists(\"./new_plots/wc_only_g20/\") == False:\n",
    "    os.mkdir(\"./new_plots/wc_only_g20\")"
   ]
  },
  {
   "cell_type": "markdown",
   "metadata": {},
   "source": [
    "### Next I'd like to re-do the g20 figure with more representatives frm other locations... where are those g20 sequences...\n",
    "\n",
    "** Note that all GL/RL/Sed Sanger seqs can be found in the file: **\n",
    "```\n",
    "/Users/juliambrown/Documents/6thYear/G20_for_ch3/AllGLSeqs_20140902.fas\n",
    "```\n",
    "\n",
    "Oh! and the unique group sequences can be found in:\n",
    "\n",
    "```\n",
    "/Users/juliambrown/Desktop/ThesisData/WC_Only_Manipulations/unique_wc_seqs.fasta\n",
    "```\n",
    "\n",
    "I'd like to insert some representative sequences from other studies in there to compare.  I can take the reps from my other chapter...which file?\n",
    "\n",
    "Well, the different g20 popsets used can be found here:\n",
    "```\n",
    "/Users/juliambrown/Desktop/ThesisData/December2014_g20_aa/\n",
    "```"
   ]
  },
  {
   "cell_type": "code",
   "execution_count": 6,
   "metadata": {
    "collapsed": false
   },
   "outputs": [
    {
     "name": "stdout",
     "output_type": "stream",
     "text": [
      "/Users/juliambrown/Desktop/Thesis_Data/December2014_g20_aa/AtlanticTransect2011.fasta\n",
      "/Users/juliambrown/Desktop/Thesis_Data/December2014_g20_aa/ChesapeakeBay.fasta\n",
      "/Users/juliambrown/Desktop/Thesis_Data/December2014_g20_aa/CulturedRepSullivan2008.fasta\n",
      "/Users/juliambrown/Desktop/Thesis_Data/December2014_g20_aa/LaurentianGreatLake2006.fasta\n",
      "/Users/juliambrown/Desktop/Thesis_Data/December2014_g20_aa/PeriAlpine2004.fasta\n",
      "/Users/juliambrown/Desktop/Thesis_Data/December2014_g20_aa/PeriAlpine2013.fasta\n",
      "/Users/juliambrown/Desktop/Thesis_Data/December2014_g20_aa/SRIM2003.fasta\n",
      "/Users/juliambrown/Desktop/Thesis_Data/December2014_g20_aa/SRIM2009.fasta\n",
      "/Users/juliambrown/Desktop/Thesis_Data/December2014_g20_aa/Zhong2002.fasta\n"
     ]
    },
    {
     "data": {
      "text/plain": [
       "['/Users/juliambrown/Desktop/Thesis_Data/December2014_g20_aa/SRIM2009.fasta',\n",
       " '/Users/juliambrown/Desktop/Thesis_Data/December2014_g20_aa/PeriAlpine2013.fasta',\n",
       " '/Users/juliambrown/Desktop/Thesis_Data/December2014_g20_aa/LaurentianGreatLake2006.fasta',\n",
       " '/Users/juliambrown/Desktop/Thesis_Data/December2014_g20_aa/CulturedRepSullivan2008.fasta',\n",
       " '/Users/juliambrown/Desktop/Thesis_Data/December2014_g20_aa/ChesapeakeBay.fasta']"
      ]
     },
     "execution_count": 6,
     "metadata": {},
     "output_type": "execute_result"
    }
   ],
   "source": [
    "for f in glob.glob(\"/Users/juliambrown/Desktop/Thesis_Data/December2014_g20_aa/*.fasta\"):\n",
    "    subprocess.call('grep -c \">\" %s ' % f, shell=True)\n",
    "    print(f)\n",
    "wc_reps = '''Illumina_contig69_cov378.74\n",
    "2836-g20-37\n",
    "2839-g20-54\n",
    "Illumina_contig41_cov81.53\n",
    "4353-g20-6\n",
    "2838-g20-1\n",
    "2836-g20-41\n",
    "Illumina_contig29_cov131.11\n",
    "4353-g20-13_rev\n",
    "4149-g20-18\n",
    "4149-g20-4\n",
    "Illumina_contig49_cov64.12\n",
    "2839-g20-18\n",
    "2836-g20-2\n",
    "2839-g20-3\n",
    "Illumina_contig70_cov144.68\n",
    "4244-g20-28_rev\n",
    "4167-g20-4_rev\n",
    "4167-g20-23\n",
    "4353-g20-7\n",
    "Illumina_contig20_cov22.65\n",
    "2839-g20-16\n",
    "2839-g20-30\n",
    "2839-g20-32\n",
    "2838-g20-8\n",
    "2836-g20-8\n",
    "4353-g20-11\n",
    "2839-g20-51\n",
    "Illumina_contig57_cov70.11\n",
    "2836-g20-23\n",
    "Illumina_contig55_cov9.70\n",
    "Illumina_contig46_cov6.94\n",
    "'''.split()\n",
    "wc_reps\n",
    "to_use = glob.glob(\"/Users/juliambrown/Desktop/Thesis_Data/December2014_g20_aa/*.fasta\")\n",
    "these = (-2,-4,3,2,1)\n",
    "thesetouse = []\n",
    "for i in these:\n",
    "    thesetouse.append(to_use[i])\n",
    "\n",
    "thesetouse"
   ]
  },
  {
   "cell_type": "code",
   "execution_count": 8,
   "metadata": {
    "collapsed": false
   },
   "outputs": [
    {
     "name": "stdout",
     "output_type": "stream",
     "text": [
      "4167-g20-4_rev\t1|2\n",
      "4167-g20-23\t3|1\n",
      "4244-g20-28_rev\t2|2\n",
      "2836-g20-2\t6|3\n",
      "2836-g20-37\t11|1\n",
      "2836-g20-41\t12|2\n",
      "2836-g20-8\t13|1\n",
      "2836-g20-23\t21|1\n",
      "4353-g20-6\t1|5\n",
      "4353-g20-11\t3|1\n",
      "4353-g20-7\t6|1\n",
      "4353-g20-13_rev\t7|1\n",
      "Illumina_contig69_cov378.74\t1|1\n",
      "Illumina_contig41_cov81.53\t2|1\n",
      "Illumina_contig29_cov131.11\t3|1\n",
      "Illumina_contig49_cov64.12\t4|1\n",
      "Illumina_contig70_cov144.68\t5|1\n",
      "Illumina_contig20_cov22.65\t6|1\n",
      "Illumina_contig46_cov6.94\t7|1\n",
      "Illumina_contig55_cov9.70\t8|1\n",
      "Illumina_contig57_cov70.11\t9|1\n",
      "2839-g20-54\t5|3\n",
      "2839-g20-32\t12|1\n",
      "2839-g20-30\t13|1\n",
      "2839-g20-3\t14|1\n",
      "2839-g20-18\t17|1\n",
      "2839-g20-51\t20|1\n",
      "2839-g20-16\t21|1\n",
      "2838-g20-8\t26|1\n",
      "2838-g20-1\t27|1\n",
      "4149-g20-18\t1|1\n",
      "4149-g20-4\t3|2\n",
      "Bacteriophage_T4_gene_20\n"
     ]
    }
   ],
   "source": [
    "glseqs = \"/Users/juliambrown/Desktop/Thesis_Data/g20/WC_Only_Manipulations/unique_wc_seqs.fasta\"\n",
    "\n",
    "with open(\"./new_plots/wc_only_g20/combined_g20_libraries.fasta\", \"w\") as out:\n",
    "    for i in thesetouse:\n",
    "        with open(i) as infile:\n",
    "            for name, seq in read_fasta(infile):\n",
    "                print(\">%s\" % name, file=out)\n",
    "                seq = seq.replace(\"-\",\"\")\n",
    "                for i in range(0, len(seq), 80):\n",
    "                    print(seq[i:i+80], file=out)\n",
    "    with open(glseqs) as ih:\n",
    "        for name, seq in read_fasta(ih):\n",
    "            if name.split(\"\\t\")[0] in wc_reps or \"T4\" in name:\n",
    "                print(name)\n",
    "                print(\">%s\" % name.split(\"\\t\")[0], file=out)\n",
    "                seq = seq.replace(\"-\",\"\")\n",
    "                for i in range(0, len(seq), 80):\n",
    "                    print(seq[i:i+80], file=out)"
   ]
  },
  {
   "cell_type": "code",
   "execution_count": 9,
   "metadata": {
    "collapsed": true
   },
   "outputs": [],
   "source": [
    "!open ./new_plots/wc_only_g20/combined_g20_libraries.fasta -a textedit"
   ]
  },
  {
   "cell_type": "markdown",
   "metadata": {},
   "source": [
    "next is to re-align them."
   ]
  },
  {
   "cell_type": "code",
   "execution_count": null,
   "metadata": {
    "collapsed": true
   },
   "outputs": [],
   "source": [
    "!muscle -in ./new_plots/wc_only_g20/combined_g20_libraries.fasta -out ./new_plots/wc_only_g20/combog20aln.fasta"
   ]
  },
  {
   "cell_type": "code",
   "execution_count": 10,
   "metadata": {
    "collapsed": false
   },
   "outputs": [
    {
     "data": {
      "text/plain": [
       "<matplotlib.text.Text at 0x10a04bb90>"
      ]
     },
     "execution_count": 10,
     "metadata": {},
     "output_type": "execute_result"
    },
    {
     "data": {
      "image/png": "[encoded data removed]",
      "text/plain": [
       "<matplotlib.figure.Figure at 0x1048e1050>"
      ]
     },
     "metadata": {},
     "output_type": "display_data"
    }
   ],
   "source": [
    "aln = Alignment.read(file = \"./new_plots/wc_only_g20/combog20aln.fasta\", format=\"fasta\")\n",
    "gap_freq = [d[\"-\"] for d in aln.position_frequencies()]\n",
    "fig, ax = plt.subplots()\n",
    "fig.set_size_inches([16, 3])\n",
    "ax.plot(np.arange(len(gap_freq)), gap_freq)\n",
    "ax.set_xlabel(\"Position\")\n",
    "ax.set_ylabel(\"Gap frequency\")"
   ]
  },
  {
   "cell_type": "code",
   "execution_count": 11,
   "metadata": {
    "collapsed": true
   },
   "outputs": [],
   "source": [
    "keepers, = np.where(np.array(gap_freq)<=0.1)\n",
    "aln_masked = aln.subalignment(positions_to_keep=keepers)"
   ]
  },
  {
   "cell_type": "code",
   "execution_count": 12,
   "metadata": {
    "collapsed": false
   },
   "outputs": [
    {
     "data": {
      "text/plain": [
       "<matplotlib.text.Text at 0x10a24d510>"
      ]
     },
     "execution_count": 12,
     "metadata": {},
     "output_type": "execute_result"
    },
    {
     "data": {
      "image/png": "[encoded data removed]",
      "text/plain": [
       "<matplotlib.figure.Figure at 0x1048e1110>"
      ]
     },
     "metadata": {},
     "output_type": "display_data"
    }
   ],
   "source": [
    "gap_freq2 = [d[\"-\"] for d in aln_masked.position_frequencies()]\n",
    "fig, ax = plt.subplots()\n",
    "fig.set_size_inches([16, 3])\n",
    "ax.plot(np.arange(len(gap_freq2)), gap_freq2)\n",
    "ax.set_xlabel(\"Position\")\n",
    "ax.set_ylabel(\"Gap frequency\")"
   ]
  },
  {
   "cell_type": "code",
   "execution_count": null,
   "metadata": {
    "collapsed": true
   },
   "outputs": [],
   "source": [
    "aln_masked.write(\"./new_plots/wc_only_g20/combog20aln_0.1masked.fasta\", format=\"fasta\")"
   ]
  },
  {
   "cell_type": "code",
   "execution_count": null,
   "metadata": {
    "collapsed": true
   },
   "outputs": [],
   "source": [
    "%%bash\n",
    "FastTree -nt ./new_plots/wc_only_g20/combog20aln_0.1masked.fasta > ./new_plots/wc_only_g20/combog20aln_0.1masked.tree"
   ]
  },
  {
   "cell_type": "code",
   "execution_count": null,
   "metadata": {
    "collapsed": true
   },
   "outputs": [],
   "source": [
    "#clade labels... \n",
    "with open(\"./new_plots/wc_only_g20/combog20aln_labels.txt\", \"w\") as oh:\n",
    "    print(\"TREE_COLORS\", file=oh)\n",
    "    print(\"SEPARATOR TAB\", sep=\"\\t\", file=oh)\n",
    "    #print(\"DATASET_LABEL\", \"origin\", sep=\"\\t\", file=oh)\n",
    "    #print(\"COLOR\", \"#ff0000\", sep=\"\\t\", file=oh)\n",
    "    print(\"DATA\", file=oh)\n",
    "    for j, i in enumerate(thesetouse):\n",
    "        label = os.path.basename(i).replace(\".fasta\",\"\")\n",
    "        with open(i) as ih:\n",
    "            for name, seq in read_fasta(ih):\n",
    "                print(name,\"range\", colors[j],label, sep=\"\\t\", file = oh)\n",
    "    for i in wc_reps:\n",
    "        print(i, \"range\", colors[-1], \"GL and RL\" , sep=\"\\t\", file = oh)\n",
    "\n",
    "!open ./new_plots/wc_only_g20/combog20aln_labels.txt -a textedit"
   ]
  },
  {
   "cell_type": "code",
   "execution_count": null,
   "metadata": {
    "collapsed": true
   },
   "outputs": [],
   "source": [
    "repdict = {}\n",
    "\n",
    "with open(\"./new_plots/wc_only_g20/98_pct_wc_rep.csv\") as ih:\n",
    "    for line in ih.read().split(\"\\r\"):\n",
    "        name, rep = line.split(\",\")\n",
    "        repdict[name] = rep\n",
    "repdict"
   ]
  },
  {
   "cell_type": "code",
   "execution_count": null,
   "metadata": {
    "collapsed": true
   },
   "outputs": [],
   "source": [
    "with open(\"./new_plots/wc_only_g20/combog20aln_representation.txt\", \"w\") as oh:\n",
    "    print(\"DATASET_SIMPLEBAR\", file=oh)\n",
    "    print(\"SEPARATOR TAB\", file=oh)\n",
    "    print(\"DATASET_LABEL\", \"simple bar\", sep=\"\\t\", file=oh)\n",
    "    print(\"DATA\", file=oh)\n",
    "    \n",
    "    for i in wc_reps:\n",
    "        print(i, repdict[i], sep=\"\\t\", file=oh)\n",
    "        \n",
    "!open ./new_plots/wc_only_g20/combog20aln_representation.txt -a textedit"
   ]
  },
  {
   "cell_type": "markdown",
   "metadata": {},
   "source": [
    "Manually loaded files into iTol"
   ]
  },
  {
   "cell_type": "code",
   "execution_count": 14,
   "metadata": {
    "collapsed": false
   },
   "outputs": [],
   "source": [
    "#Image(\"./new_plots/wc_only_g20/GLwc_seq_comparison.png\")"
   ]
  },
  {
   "cell_type": "markdown",
   "metadata": {},
   "source": [
    "**figuring out where the information on the sequences relateding to the g20 primers can be found **\n",
    "\n",
    "This document outlines the information associated with the primers I'd put together:\n",
    "```\n",
    "/Users/juliambrown/Documents/6thYear/GLSequences/g20_RLCP_qPCR_Primers.docx\n",
    "```\n",
    "\n",
    "States that primers target the following g20 groups:\n",
    "RLCP1: clusters 24 and 4C\n",
    "RLCP2A: cluster 21\n",
    "\n",
    "Information on RLCP4 missing.  Hmm.  Probably in my lab notebook, but who knows where that is at this point. \n",
    "\n",
    "Able to deduce based on this figure:\n",
    "```\n",
    "/Users/juliambrown/Desktop/Thesis_Data/g20/WC_Only_Manipulations/98Percent_g20WC_ClusteringTree.pptx\n",
    "```\n",
    "\n",
    "and this cluster information:\n",
    "```\n",
    "/Users/juliambrown/Desktop/Thesis_Data/g20/WC_Only_Manipulations/ClusterInfo.xlsx\n",
    "```\n",
    "\n",
    "that RLCP4 targets a cluster with 7 members, on the opposite clade from the other two primer targets.  There are only two clusters with 7 members, and only one on the opposite clade from the other two primer targets.  The cluster representative is: 2838-g20-1.\n",
    "\n",
    "I'll do an alignment just to make sure that the primer sequence does indeed target this sequence."
   ]
  },
  {
   "cell_type": "code",
   "execution_count": 25,
   "metadata": {
    "collapsed": false
   },
   "outputs": [
    {
     "data": {
      "text/plain": [
       "['2838-g20-1',\n",
       " '2839-g20-46',\n",
       " '2839-g20-13',\n",
       " '2839-g20-35',\n",
       " '2836-g20-6',\n",
       " '2836-g20-33',\n",
       " '2836-g20-21']"
      ]
     },
     "execution_count": 25,
     "metadata": {},
     "output_type": "execute_result"
    }
   ],
   "source": [
    "# gather the sequences\n",
    "seq_set = \"2838-g20-1\t2839-g20-46\t2839-g20-13\t2839-g20-35\t2836-g20-6\t2836-g20-33\t2836-g20-21\"\n",
    "seqs = seq_set.split(\"\\t\")\n",
    "seqs"
   ]
  },
  {
   "cell_type": "code",
   "execution_count": 28,
   "metadata": {
    "collapsed": false
   },
   "outputs": [
    {
     "name": "stdout",
     "output_type": "stream",
     "text": [
      "2836-g20-21\n",
      "2836-g20-33\n",
      "2836-g20-6\n",
      "2838-g20-1\n",
      "2839-g20-13\n",
      "2839-g20-35\n",
      "2839-g20-46\n"
     ]
    }
   ],
   "source": [
    "#into fasta file\n",
    "glseqs = \"/Users/juliambrown/Desktop/Thesis_Data/g20/WC_Only_Manipulations/Alignments/CuratedGLSeqs_wc_Only_updated4-30-2014.fas\"\n",
    "\n",
    "\n",
    "with open(\"./new_plots/wc_only_g20/test_rlcp4_seqs.fasta\", \"w\") as oh, open(glseqs) as ih:\n",
    "    for name, seq in read_fasta(ih):\n",
    "        if name.split()[0] in seqs:\n",
    "            print(name.split()[0])\n",
    "            print(\">{name}\".format(**locals()), file=oh)\n",
    "            for i in range(0, len(seq), 80):\n",
    "                print(seq[i:i+80], file=oh)"
   ]
  },
  {
   "cell_type": "code",
   "execution_count": 55,
   "metadata": {
    "collapsed": false
   },
   "outputs": [],
   "source": [
    "primers = '''>rlcp4_f\n",
    "CAAAATCTTGGAGAACTTGCTG\n",
    ">rlcp4_r\n",
    "TTTCAATCTTGGYCGTTCAT\n",
    ">rlcp4_probe\n",
    "CGAATYGATGTTGGTGGTGGTGG\n",
    "'''\n",
    "#note reverse sequence has been reverse complemented\n",
    "print(primers.strip(), file=open(\"./new_plots/wc_only_g20/rlcp4_primers.fasta\", \"w\"))"
   ]
  },
  {
   "cell_type": "code",
   "execution_count": 51,
   "metadata": {
    "collapsed": false
   },
   "outputs": [
    {
     "data": {
      "text/plain": [
       "'>rlcp4_f\\nCAAAATCTTGGAGAACTTGCTG\\n>rlcp4_r\\nTTTCAATCTTGGYCGTTCAT\\n>rlcp4_probe\\nCGAATYGATGTTGGTGGTGGTGG\\n'"
      ]
     },
     "execution_count": 51,
     "metadata": {},
     "output_type": "execute_result"
    }
   ],
   "source": [
    "primers"
   ]
  },
  {
   "cell_type": "code",
   "execution_count": 52,
   "metadata": {
    "collapsed": false
   },
   "outputs": [
    {
     "name": "stdout",
     "output_type": "stream",
     "text": [
      "2836-g20-21\n",
      "2836-g20-33\n",
      "2836-g20-6\n",
      "2838-g20-1\n",
      "2839-g20-13\n",
      "2839-g20-35\n",
      "2839-g20-46\n"
     ]
    }
   ],
   "source": [
    "with open(\"./new_plots/wc_only_g20/test_rlcp4_seqs_primers.fasta\", \"w\") as oh, open(glseqs) as ih:\n",
    "    for name, seq in read_fasta(ih):\n",
    "        if name.split()[0] in seqs:\n",
    "            print(name.split()[0])\n",
    "            print(\">{name}\".format(**locals()), file=oh)\n",
    "            for i in range(0, len(seq), 80):\n",
    "                print(seq[i:i+80], file=oh)\n",
    "    print(primers.strip(\"\\n\"), file=oh)"
   ]
  },
  {
   "cell_type": "code",
   "execution_count": 53,
   "metadata": {
    "collapsed": false
   },
   "outputs": [
    {
     "name": "stdout",
     "output_type": "stream",
     "text": [
      "\n",
      "MUSCLE v3.6 by Robert C. Edgar\n",
      "\n",
      "http://www.drive5.com/muscle\n",
      "This software is donated to the public domain.\n",
      "Please cite: Edgar, R.C. Nucleic Acids Res 32(5), 1792-97.\n",
      "\n",
      "test_rlcp4_seqs_primers 10 seqs, max length 548, avg  length 390\n",
      "00:00:00     10 MB(2%)  Iter   1  100.00%  K-mer dist pass 1\n",
      "00:00:00     10 MB(2%)  Iter   1  100.00%  K-mer dist pass 2\n",
      "00:00:00     10 MB(2%)  Iter   1  100.00%  Align node\n",
      "00:00:00     10 MB(2%)  Iter   1  100.00%  Root alignment\n",
      "00:00:00     10 MB(2%)  Iter   2  100.00%  Refine tree\n",
      "00:00:00     10 MB(2%)  Iter   2  100.00%  Root alignment\n",
      "00:00:00     10 MB(2%)  Iter   2  100.00%  Root alignment\n",
      "00:00:00     10 MB(2%)  Iter   3  100.00%  Refine biparts\n"
     ]
    }
   ],
   "source": [
    "!muscle -in ./new_plots/wc_only_g20/test_rlcp4_seqs_primers.fasta -out ./new_plots/wc_only_g20/test_rlcp4_aln.fasta"
   ]
  },
  {
   "cell_type": "code",
   "execution_count": 54,
   "metadata": {
    "collapsed": true
   },
   "outputs": [],
   "source": [
    "!open ./new_plots/wc_only_g20/test_rlcp4_aln.fasta"
   ]
  },
  {
   "cell_type": "markdown",
   "metadata": {},
   "source": [
    "Confirmed.  Primers match this group identically.\n",
    "\n",
    "** Now going to cluster the pop sets at 98% identity before aligning to consolidate the g20 tree **"
   ]
  },
  {
   "cell_type": "code",
   "execution_count": 64,
   "metadata": {
    "collapsed": false
   },
   "outputs": [
    {
     "name": "stdout",
     "output_type": "stream",
     "text": [
      "usearch v8.1.1861_i86osx32, 4.0Gb RAM (8.6Gb total), 4 cores\n",
      "(C) Copyright 2013-15 Robert C. Edgar, all rights reserved.\n",
      "http://drive5.com/usearch\n",
      "\n",
      "Licensed to: jmb636@cornell.edu\n",
      "\n"
     ]
    },
    {
     "name": "stderr",
     "output_type": "stream",
     "text": [
      "00:00 1.3Mb    0.1% Reading /Users/juliambrown/Desktop/Thesis_Data/December2014_g20_aa/SRIM2009.fasta\r",
      "00:00 1.4Mb  100.0% Reading /Users/juliambrown/Desktop/Thesis_Data/December2014_g20_aa/SRIM2009.fasta\r\n",
      "00:00 1.4Mb Pass 1...60 seqs, 9 uniques, 2 singletons (22.2%)                                        \n",
      "00:00 1.5Mb Min size 1, median 5, max 31, avg 6.67\n",
      "00:00 1.5Mb done.\n",
      "00:00 2.7Mb   10.0% Clustering\r",
      "00:00 2.7Mb   10.0% 0 clusters, max size 0, avg 0.0\r",
      "00:00 3.2Mb  100.0% 5 clusters, max size 34, avg 12.0\r\n",
      "00:00 3.2Mb   20.0% Writing centroids to ./new_plots/wc_only_g20/srim2009_98.fasta\r",
      "00:00 3.2Mb  100.0% Writing centroids to ./new_plots/wc_only_g20/srim2009_98.fasta\r\n",
      "                                                                                  \n",
      "      Seqs  9\n",
      "  Clusters  5\n",
      "  Max size  34\n",
      "  Avg size  12.0\n",
      "  Min size  5\n",
      "Singletons  0, 0.0% of seqs, 0.0% of clusters\n",
      "   Max mem  3.2Mb\n",
      "      Time  1.00s\n",
      "Throughput  9.0 seqs/sec.\n",
      "\n"
     ]
    }
   ],
   "source": [
    "%%bash\n",
    "~/Desktop/usearch -cluster_fast /Users/juliambrown/Desktop/Thesis_Data/December2014_g20_aa/SRIM2009.fasta -id 0.98 -centroids ./new_plots/wc_only_g20/srim2009_98.fasta -uc ./new_plots/wc_only_g20/srim2009clusters.uc"
   ]
  },
  {
   "cell_type": "code",
   "execution_count": 66,
   "metadata": {
    "collapsed": true
   },
   "outputs": [],
   "source": [
    "if os.path.exists(\"./new_plots/wc_only_g20/pop_clusts/\") == False:\n",
    "    os.mkdir(\"./new_plots/wc_only_g20/pop_clusts/\")"
   ]
  },
  {
   "cell_type": "code",
   "execution_count": 91,
   "metadata": {
    "collapsed": false
   },
   "outputs": [],
   "source": [
    "to_use = glob.glob(\"/Users/juliambrown/Desktop/Thesis_Data/December2014_g20_aa/*.fasta\")\n",
    "new_fastas = []\n",
    "for f in to_use:\n",
    "    name = os.path.basename(f).strip(\".fasta\")\n",
    "    new_fasta = \"./new_plots/wc_only_g20/pop_clusts/{name}.fasta\".format(**locals())\n",
    "    outuc = \"./new_plots/wc_only_g20/pop_clusts/{name}.uc\".format(**locals())\n",
    "    if \"Atlantic\" in f:\n",
    "        pctid = .90\n",
    "    else:\n",
    "        pctid = .98\n",
    "        \n",
    "    cmd = \"~/Desktop/usearch -cluster_fast {f} -id {pctid} -centroids {new_fasta} -uc {outuc}\".format(**locals())\n",
    "    subprocess.call(cmd, shell=True)\n",
    "    new_fastas.append(new_fasta)\n",
    "    "
   ]
  },
  {
   "cell_type": "code",
   "execution_count": 92,
   "metadata": {
    "collapsed": true
   },
   "outputs": [],
   "source": [
    "wc_reps = '''Illumina_contig69_cov378.74\n",
    "2836-g20-37\n",
    "2839-g20-54\n",
    "Illumina_contig41_cov81.53\n",
    "4353-g20-6\n",
    "2838-g20-1\n",
    "2836-g20-41\n",
    "Illumina_contig29_cov131.11\n",
    "4353-g20-13_rev\n",
    "4149-g20-18\n",
    "4149-g20-4\n",
    "Illumina_contig49_cov64.12\n",
    "2839-g20-18\n",
    "2836-g20-2\n",
    "2839-g20-3\n",
    "Illumina_contig70_cov144.68\n",
    "4244-g20-28_rev\n",
    "4167-g20-4_rev\n",
    "4167-g20-23\n",
    "4353-g20-7\n",
    "Illumina_contig20_cov22.65\n",
    "2839-g20-16\n",
    "2839-g20-30\n",
    "2839-g20-32\n",
    "2838-g20-8\n",
    "2836-g20-8\n",
    "4353-g20-11\n",
    "2839-g20-51\n",
    "Illumina_contig57_cov70.11\n",
    "2836-g20-23\n",
    "Illumina_contig55_cov9.70\n",
    "Illumina_contig46_cov6.94\n",
    "'''.split()\n",
    "\n",
    "glseqs = glseqs = \"/Users/juliambrown/Desktop/Thesis_Data/g20/WC_Only_Manipulations/unique_wc_seqs.fasta\""
   ]
  },
  {
   "cell_type": "code",
   "execution_count": 93,
   "metadata": {
    "collapsed": false
   },
   "outputs": [
    {
     "name": "stdout",
     "output_type": "stream",
     "text": [
      "4167-g20-4_rev\t1|2\n",
      "4167-g20-23\t3|1\n",
      "4244-g20-28_rev\t2|2\n",
      "2836-g20-2\t6|3\n",
      "2836-g20-37\t11|1\n",
      "2836-g20-41\t12|2\n",
      "2836-g20-8\t13|1\n",
      "2836-g20-23\t21|1\n",
      "4353-g20-6\t1|5\n",
      "4353-g20-11\t3|1\n",
      "4353-g20-7\t6|1\n",
      "4353-g20-13_rev\t7|1\n",
      "Illumina_contig69_cov378.74\t1|1\n",
      "Illumina_contig41_cov81.53\t2|1\n",
      "Illumina_contig29_cov131.11\t3|1\n",
      "Illumina_contig49_cov64.12\t4|1\n",
      "Illumina_contig70_cov144.68\t5|1\n",
      "Illumina_contig20_cov22.65\t6|1\n",
      "Illumina_contig46_cov6.94\t7|1\n",
      "Illumina_contig55_cov9.70\t8|1\n",
      "Illumina_contig57_cov70.11\t9|1\n",
      "2839-g20-54\t5|3\n",
      "2839-g20-32\t12|1\n",
      "2839-g20-30\t13|1\n",
      "2839-g20-3\t14|1\n",
      "2839-g20-18\t17|1\n",
      "2839-g20-51\t20|1\n",
      "2839-g20-16\t21|1\n",
      "2838-g20-8\t26|1\n",
      "2838-g20-1\t27|1\n",
      "4149-g20-18\t1|1\n",
      "4149-g20-4\t3|2\n",
      "Bacteriophage_T4_gene_20\n"
     ]
    }
   ],
   "source": [
    "with open(\"./new_plots/wc_only_g20/pop_clusts/pop_set_data.txt\", \"w\") as data, open(\"./new_plots/wc_only_g20/pop_clusts/pop_set_clusts_combo.fasta\", \"w\") as ofasta:\n",
    "    for n in new_fastas:\n",
    "        for name, seq in read_fasta(open(n)):\n",
    "            print(\">{name}\".format(**locals()), file = ofasta)\n",
    "            for i in range(0, len(seq), 80):\n",
    "                print(seq[i:i+80], file = ofasta)\n",
    "            print(name, os.path.basename(n).strip(\".fasta\"), sep=\"\\t\", file = data)\n",
    "    with open(glseqs) as ih:\n",
    "        for name, seq in read_fasta(ih):\n",
    "            if name.split(\"\\t\")[0] in wc_reps or \"T4\" in name:\n",
    "                print(name)\n",
    "                print(\">%s\" % name.split(\"\\t\")[0], file=ofasta)\n",
    "                seq = seq.replace(\"-\",\"\")\n",
    "                for i in range(0, len(seq), 80):\n",
    "                    print(seq[i:i+80], file=ofasta)\n",
    "                print(name, \"gl_rl_wc\", sep=\"\\t\", file=data)"
   ]
  },
  {
   "cell_type": "code",
   "execution_count": 94,
   "metadata": {
    "collapsed": true
   },
   "outputs": [],
   "source": [
    "!open ./new_plots/wc_only_g20/pop_clusts/pop_set_data.txt\n",
    "!open ./new_plots/wc_only_g20/pop_clusts/pop_set_clusts_combo.fasta"
   ]
  },
  {
   "cell_type": "code",
   "execution_count": 95,
   "metadata": {
    "collapsed": false
   },
   "outputs": [
    {
     "name": "stdout",
     "output_type": "stream",
     "text": [
      "\n",
      "MUSCLE v3.6 by Robert C. Edgar\n",
      "\n",
      "http://www.drive5.com/muscle\n",
      "This software is donated to the public domain.\n",
      "Please cite: Edgar, R.C. Nucleic Acids Res 32(5), 1792-97.\n",
      "\n",
      "pop_set_clusts_combo 411 seqs, max length 599, avg  length 542\n",
      "00:00:01     10 MB(2%)  Iter   1  100.00%  K-mer dist pass 1\n",
      "00:00:01     10 MB(2%)  Iter   1  100.00%  K-mer dist pass 2\n",
      "00:00:04     10 MB(2%)  Iter   1  100.00%  Align node\n",
      "00:00:04     10 MB(2%)  Iter   1  100.00%  Root alignment\n",
      "00:00:06     10 MB(2%)  Iter   2  100.00%  Refine tree\n",
      "00:00:06     10 MB(2%)  Iter   2  100.00%  Root alignment\n",
      "00:00:06     10 MB(2%)  Iter   2  100.00%  Root alignment\n",
      "00:00:39     10 MB(2%)  Iter   3  100.00%  Refine biparts\n",
      "00:01:17     10 MB(2%)  Iter   4  100.00%  Refine biparts\n",
      "00:01:18     10 MB(2%)  Iter   5  100.00%  Refine biparts\n",
      "00:01:18     10 MB(2%)  Iter   5  100.00%  Refine biparts\n"
     ]
    }
   ],
   "source": [
    "!muscle -in ./new_plots/wc_only_g20/pop_clusts/pop_set_clusts_combo.fasta -out ./new_plots/wc_only_g20/pop_clusts/pop_set_clusts_combo_aln.fasta"
   ]
  },
  {
   "cell_type": "code",
   "execution_count": 96,
   "metadata": {
    "collapsed": false
   },
   "outputs": [
    {
     "data": {
      "text/plain": [
       "<matplotlib.text.Text at 0x10a41d290>"
      ]
     },
     "execution_count": 96,
     "metadata": {},
     "output_type": "execute_result"
    },
    {
     "data": {
      "image/png": "[encoded data removed]",
      "text/plain": [
       "<matplotlib.figure.Figure at 0x10a235690>"
      ]
     },
     "metadata": {},
     "output_type": "display_data"
    }
   ],
   "source": [
    "aln = Alignment.read(file = \"./new_plots/wc_only_g20/pop_clusts/pop_set_clusts_combo_aln.fasta\", format=\"fasta\")\n",
    "gap_freq = [d[\"-\"] for d in aln.position_frequencies()]\n",
    "fig, ax = plt.subplots()\n",
    "fig.set_size_inches([16, 3])\n",
    "ax.plot(np.arange(len(gap_freq)), gap_freq)\n",
    "ax.set_xlabel(\"Position\")\n",
    "ax.set_ylabel(\"Gap frequency\")"
   ]
  },
  {
   "cell_type": "code",
   "execution_count": 97,
   "metadata": {
    "collapsed": true
   },
   "outputs": [],
   "source": [
    "keepers, = np.where(np.array(gap_freq)<=0.1)\n",
    "aln_masked = aln.subalignment(positions_to_keep=keepers)"
   ]
  },
  {
   "cell_type": "code",
   "execution_count": 98,
   "metadata": {
    "collapsed": false
   },
   "outputs": [
    {
     "data": {
      "text/plain": [
       "<matplotlib.text.Text at 0x109567b90>"
      ]
     },
     "execution_count": 98,
     "metadata": {},
     "output_type": "execute_result"
    },
    {
     "data": {
      "image/png": "[encoded data removed]",
      "text/plain": [
       "<matplotlib.figure.Figure at 0x10a23fa90>"
      ]
     },
     "metadata": {},
     "output_type": "display_data"
    }
   ],
   "source": [
    "gap_freq2 = [d[\"-\"] for d in aln_masked.position_frequencies()]\n",
    "fig, ax = plt.subplots()\n",
    "fig.set_size_inches([16, 3])\n",
    "ax.plot(np.arange(len(gap_freq2)), gap_freq2)\n",
    "ax.set_xlabel(\"Position\")\n",
    "ax.set_ylabel(\"Gap frequency\")"
   ]
  },
  {
   "cell_type": "code",
   "execution_count": 99,
   "metadata": {
    "collapsed": false
   },
   "outputs": [
    {
     "data": {
      "text/plain": [
       "'./new_plots/wc_only_g20/pop_clusts/combog20aln_0.1masked.fasta'"
      ]
     },
     "execution_count": 99,
     "metadata": {},
     "output_type": "execute_result"
    }
   ],
   "source": [
    "aln_masked.write(\"./new_plots/wc_only_g20/pop_clusts/combog20aln_0.1masked.fasta\", format=\"fasta\")"
   ]
  },
  {
   "cell_type": "code",
   "execution_count": 100,
   "metadata": {
    "collapsed": false
   },
   "outputs": [
    {
     "name": "stderr",
     "output_type": "stream",
     "text": [
      "FastTree Version 2.1.8 SSE3\n",
      "Alignment: ./new_plots/wc_only_g20/pop_clusts/combog20aln_0.1masked.fasta\n",
      "Nucleotide distances: Jukes-Cantor Joins: balanced Support: SH-like 1000\n",
      "Search: Normal +NNI +SPR (2 rounds range 10) +ML-NNI opt-each=1\n",
      "TopHits: 1.00*sqrtN close=default refresh=0.80\n",
      "ML Model: Jukes-Cantor, CAT approximation with 20 rate categories\n",
      "Ignored unknown character X (seen 6 times)\n",
      "Ignored unknown character Y (seen 9 times)\n",
      "      0.11 seconds: Joined    100 of    406\n",
      "      0.27 seconds: Joined    300 of    406\n",
      "Initial topology in 0.37 seconds\n",
      "Refining topology: 35 rounds ME-NNIs, 2 rounds ME-SPRs, 17 rounds ML-NNIs\n",
      "      0.37 seconds: ME NNI round 1 of 35, 101 of 407 splits, 11 changes (max delta 0.020)\n",
      "      0.57 seconds: SPR round   1 of   2, 101 of 816 nodes\n",
      "      0.74 seconds: SPR round   1 of   2, 201 of 816 nodes\n",
      "      0.91 seconds: SPR round   1 of   2, 301 of 816 nodes\n",
      "      1.05 seconds: SPR round   1 of   2, 401 of 816 nodes\n",
      "      1.18 seconds: SPR round   1 of   2, 501 of 816 nodes\n",
      "      1.32 seconds: SPR round   1 of   2, 601 of 816 nodes\n",
      "      1.51 seconds: SPR round   1 of   2, 701 of 816 nodes\n",
      "      1.70 seconds: SPR round   1 of   2, 801 of 816 nodes\n",
      "      1.80 seconds: ME NNI round 13 of 35, 401 of 407 splits, 0 changes\n",
      "      1.95 seconds: SPR round   2 of   2, 101 of 816 nodes\n",
      "      2.11 seconds: SPR round   2 of   2, 201 of 816 nodes\n",
      "      2.26 seconds: SPR round   2 of   2, 301 of 816 nodes\n",
      "      2.43 seconds: SPR round   2 of   2, 401 of 816 nodes\n",
      "      2.60 seconds: SPR round   2 of   2, 501 of 816 nodes\n",
      "      2.73 seconds: SPR round   2 of   2, 601 of 816 nodes\n",
      "      2.88 seconds: SPR round   2 of   2, 701 of 816 nodes\n",
      "      3.02 seconds: SPR round   2 of   2, 801 of 816 nodes\n",
      "Total branch-length 39.051 after 3.13 sec\n",
      "      3.13 seconds: ML Lengths 1 of 407 splits\n",
      "      3.24 seconds: ML Lengths 201 of 407 splits\n",
      "      3.34 seconds: ML Lengths 401 of 407 splits\n",
      "      3.54 seconds: ML NNI round 1 of 17, 101 of 407 splits, 22 changes (max delta 5.972)\n",
      "      3.73 seconds: ML NNI round 1 of 17, 201 of 407 splits, 34 changes (max delta 8.028)\n",
      "      3.90 seconds: ML NNI round 1 of 17, 301 of 407 splits, 50 changes (max delta 10.688)\n",
      "      4.11 seconds: ML NNI round 1 of 17, 401 of 407 splits, 67 changes (max delta 10.688)\n",
      "ML-NNI round 1: LogLk = -101421.728 NNIs 69 max delta 10.69 Time 4.14\n",
      "      4.22 seconds: Site likelihoods with rate category 9 of 20\n",
      "Switched to using 20 rate categories (CAT approximation)\n",
      "Rate categories were divided by 1.082 so that average rate = 1.0\n",
      "CAT-based log-likelihoods may not be comparable across runs\n",
      "Use -gamma for approximate but comparable Gamma(20) log-likelihoods\n",
      "      4.33 seconds: ML NNI round 2 of 17, 1 of 407 splits\n",
      "      4.43 seconds: ML NNI round 2 of 17, 101 of 407 splits, 8 changes (max delta 6.545)\n",
      "      4.54 seconds: ML NNI round 2 of 17, 201 of 407 splits, 12 changes (max delta 6.545)\n",
      "      4.66 seconds: ML NNI round 2 of 17, 301 of 407 splits, 21 changes (max delta 6.826)\n",
      "      4.78 seconds: ML NNI round 2 of 17, 401 of 407 splits, 31 changes (max delta 6.826)\n",
      "ML-NNI round 2: LogLk = -90316.879 NNIs 31 max delta 6.83 Time 4.80\n",
      "      4.90 seconds: ML NNI round 3 of 17, 101 of 407 splits, 2 changes (max delta 1.975)\n",
      "      5.01 seconds: ML NNI round 3 of 17, 201 of 407 splits, 3 changes (max delta 1.975)\n",
      "ML-NNI round 3: LogLk = -90305.417 NNIs 5 max delta 1.98 Time 5.07\n",
      "      5.17 seconds: ML NNI round 4 of 17, 101 of 407 splits, 1 changes (max delta 0.018)\n",
      "ML-NNI round 4: LogLk = -90302.624 NNIs 3 max delta 0.58 Time 5.22\n",
      "ML-NNI round 5: LogLk = -90302.528 NNIs 0 max delta 0.00 Time 5.27\n",
      "Turning off heuristics for final round of ML NNIs (converged)\n",
      "      5.44 seconds: ML NNI round 6 of 17, 101 of 407 splits, 3 changes (max delta 0.604)\n",
      "      5.64 seconds: ML NNI round 6 of 17, 201 of 407 splits, 4 changes (max delta 0.604)\n",
      "      5.84 seconds: ML NNI round 6 of 17, 301 of 407 splits, 6 changes (max delta 0.604)\n",
      "      6.03 seconds: ML NNI round 6 of 17, 401 of 407 splits, 7 changes (max delta 0.604)\n",
      "ML-NNI round 6: LogLk = -90256.491 NNIs 7 max delta 0.60 Time 6.04 (final)\n",
      "      6.13 seconds: ML Lengths 201 of 407 splits\n",
      "Optimize all lengths: LogLk = -90254.894 Time 6.23\n",
      "      6.44 seconds: ML split tests for    100 of    406 internal splits\n",
      "      6.67 seconds: ML split tests for    200 of    406 internal splits\n",
      "      6.89 seconds: ML split tests for    300 of    406 internal splits\n",
      "      7.10 seconds: ML split tests for    400 of    406 internal splits\n",
      "Total time: 7.12 seconds Unique: 409/411 Bad splits: 3/406 Worst delta-LogLk 2.748\n"
     ]
    }
   ],
   "source": [
    "%%bash\n",
    "FastTree -nt ./new_plots/wc_only_g20/pop_clusts/combog20aln_0.1masked.fasta > ./new_plots/wc_only_g20/pop_clusts/combog20aln_0.1masked.tree"
   ]
  },
  {
   "cell_type": "code",
   "execution_count": 101,
   "metadata": {
    "collapsed": false
   },
   "outputs": [
    {
     "data": {
      "text/plain": [
       "['/Users/juliambrown/Desktop/Thesis_Data/December2014_g20_aa/AtlanticTransect2011.fasta',\n",
       " '/Users/juliambrown/Desktop/Thesis_Data/December2014_g20_aa/ChesapeakeBay.fasta',\n",
       " '/Users/juliambrown/Desktop/Thesis_Data/December2014_g20_aa/CulturedRepSullivan2008.fasta',\n",
       " '/Users/juliambrown/Desktop/Thesis_Data/December2014_g20_aa/LaurentianGreatLake2006.fasta',\n",
       " '/Users/juliambrown/Desktop/Thesis_Data/December2014_g20_aa/PeriAlpine2004.fasta',\n",
       " '/Users/juliambrown/Desktop/Thesis_Data/December2014_g20_aa/PeriAlpine2013.fasta',\n",
       " '/Users/juliambrown/Desktop/Thesis_Data/December2014_g20_aa/SRIM2003.fasta',\n",
       " '/Users/juliambrown/Desktop/Thesis_Data/December2014_g20_aa/SRIM2009.fasta',\n",
       " '/Users/juliambrown/Desktop/Thesis_Data/December2014_g20_aa/Zhong2002.fasta']"
      ]
     },
     "execution_count": 101,
     "metadata": {},
     "output_type": "execute_result"
    }
   ],
   "source": [
    "to_use = glob.glob(\"/Users/juliambrown/Desktop/Thesis_Data/December2014_g20_aa/*.fasta\")\n",
    "to_use"
   ]
  },
  {
   "cell_type": "code",
   "execution_count": 103,
   "metadata": {
    "collapsed": true
   },
   "outputs": [],
   "source": [
    "colors = [\"#BF5037\",\n",
    "\"#494036\",\n",
    "\"#BEA641\",\n",
    "\"#85D249\",\n",
    "\"#71BA80\",\n",
    "\"#88B9C6\",\n",
    "\"#716FB4\",\n",
    "\"#C159CC\",\n",
    "\"#B04C7B\",\n",
    "\"#C6A58F\"]\n",
    "\n",
    "#clade labels... \n",
    "with open(\"./new_plots/wc_only_g20/pop_clusts/combog20aln_labels.txt\", \"w\") as oh:\n",
    "    print(\"TREE_COLORS\", file=oh)\n",
    "    print(\"SEPARATOR TAB\", sep=\"\\t\", file=oh)\n",
    "    #print(\"DATASET_LABEL\", \"origin\", sep=\"\\t\", file=oh)\n",
    "    #print(\"COLOR\", \"#ff0000\", sep=\"\\t\", file=oh)\n",
    "    print(\"DATA\", file=oh)\n",
    "    for j, i in enumerate(to_use):\n",
    "        label = os.path.basename(i).replace(\".fasta\",\"\")\n",
    "        with open(i) as ih:\n",
    "            for name, seq in read_fasta(ih):\n",
    "                print(name,\"range\", colors[j],label, sep=\"\\t\", file = oh)\n",
    "    for i in wc_reps:\n",
    "        print(i, \"range\", colors[-1], \"GL and RL\" , sep=\"\\t\", file = oh)\n",
    "\n",
    "!open ./new_plots/wc_only_g20/pop_clusts/combog20aln_labels.txt -a textedit"
   ]
  },
  {
   "cell_type": "code",
   "execution_count": 7,
   "metadata": {
    "collapsed": false
   },
   "outputs": [
    {
     "data": {
      "text/plain": [
       "{'2835': 'G-M2',\n",
       " '2836': 'G-M2',\n",
       " '2838': 'R-M2',\n",
       " '2839': 'R-M2',\n",
       " '4040': 'R-J2',\n",
       " '4149': 'R-S2',\n",
       " '4167': 'G-A3',\n",
       " '4244': 'G-J3',\n",
       " '4353': 'G-S3',\n",
       " 'Bacteriophage_T4_gene_20': 'OG\\n2839-g20-47',\n",
       " 'Illumina_contig20_cov22.65': 'I-Ia',\n",
       " 'Illumina_contig29_cov131.11': 'I-Ia',\n",
       " 'Illumina_contig41_cov81.53': 'I-Ia',\n",
       " 'Illumina_contig46_cov6.94': 'I-Ia',\n",
       " 'Illumina_contig49_cov64.12': 'I-Ia',\n",
       " 'Illumina_contig55_cov9.70': 'I-Ia',\n",
       " 'Illumina_contig57_cov70.11': 'I-Ia',\n",
       " 'Illumina_contig69_cov378.74': 'I-Ia',\n",
       " 'Illumina_contig70_cov144.68': 'I-Ia'}"
      ]
     },
     "execution_count": 7,
     "metadata": {},
     "output_type": "execute_result"
    }
   ],
   "source": [
    "ih = open(\"/Users/juliambrown/Desktop/Thesis_Data/g20/WC_Only_Manipulations/wc_groups.txt\").read().split(\"\\r\")\n",
    "sd = {}\n",
    "for l in ih:\n",
    "    sd[l.split(\"\\t\")[0].split(\"-\")[0]] = l.split(\"\\t\")[1]\n",
    "sd"
   ]
  },
  {
   "cell_type": "code",
   "execution_count": 12,
   "metadata": {
    "collapsed": false
   },
   "outputs": [
    {
     "name": "stdout",
     "output_type": "stream",
     "text": [
      "seqID\tOrganism\tisolation_source\tcountry\tlat-lon\tFwd-PCR-primer-name\tFwd-PCR-primer-seq\tRev-PCR-primer-name\tRev-PCR-primer-seq\n"
     ]
    }
   ],
   "source": [
    "fpname = \"cps1.1\"\n",
    "fwdprim = \"GTAGWATWTTYTAYATTGAYGTWGG\"\n",
    "rpname = \"cps8.1\"\n",
    "revprim = \"ARTAYTTDCCDAYRWAWGGWTC\"\n",
    "gloc = \"43.051967, -75.965185\"\n",
    "rloc = \"43.046181, -75.975639\"\n",
    "\n",
    "\n",
    "print(\"seqID\", \"Organism\", \"isolation_source\", \"country\", \"lat-lon\", \"Fwd-PCR-primer-name\", \"Fwd-PCR-primer-seq\", \"Rev-PCR-primer-name\", \"Rev-PCR-primer-seq\", sep=\"\\t\")\n"
   ]
  },
  {
   "cell_type": "code",
   "execution_count": 17,
   "metadata": {
    "collapsed": false
   },
   "outputs": [],
   "source": [
    "ofname = '/Users/juliambrown/Documents/6thYear/TimeSeries/RevisionsCode/new_plots/gl_rl_wc_g20.fasta'\n",
    "of2name = '/Users/juliambrown/Documents/6thYear/TimeSeries/RevisionsCode/new_plots/gl_rl_wc_g20.txt'\n",
    "ifname = '/Users/juliambrown/Documents/6thYear/G20_for_ch3/AllGLSeqs_20140902.fas'\n",
    "\n",
    "with open(ifname) as infile, open(ofname, \"w\") as outfile, open(of2name, \"w\") as out2:\n",
    "    print(\"seqID\", \"Organism\", \"clone\", \"isolation_source\", \"country\", \"lat-lon\", \"Fwd-PCR-primer-name\", \"Fwd-PCR-primer-seq\", \"Rev-PCR-primer-name\", \"Rev-PCR-primer-seq\", sep=\"\\t\", file=out2)\n",
    "    for name, seq in read_fasta(infile):\n",
    "        if \"x\" not in name.lower() and \"T4\" not in name and \"IGRL\" not in name:\n",
    "            l1 = sd.get(name.split(\"-\")[0], \"\")\n",
    "            if len(l1) > 0:\n",
    "                letter = l1[0]\n",
    "            else:\n",
    "                letter = \"\"\n",
    "            new_name = letter +name\n",
    "            if letter == \"G\":\n",
    "                lake = \"Green Lake Surface Water\"\n",
    "                loc = gloc\n",
    "            if letter == \"R\":\n",
    "                lake = \"Round Lake Surface Water\"\n",
    "                loc = rloc\n",
    "            print(new_name, \"uncultured phage {n}\".format(n=new_name.replace(\"-\",\".\")), new_name, lake, \"USA\", loc, fpname, fwdprim, rpname, revprim, sep=\"\\t\", file=out2)\n",
    "            print(\">\", new_name, sep=\"\", file=outfile)\n",
    "            newseq=seq.replace(\"-\",\"\")\n",
    "            for i in range(0, len(newseq), 80):\n",
    "                print(newseq[i:i+80], file=outfile)"
   ]
  },
  {
   "cell_type": "code",
   "execution_count": 18,
   "metadata": {
    "collapsed": false
   },
   "outputs": [],
   "source": [
    "!open /Users/juliambrown/Documents/6thYear/TimeSeries/RevisionsCode/new_plots/gl_rl_wc_g20.fasta\n",
    "!open /Users/juliambrown/Documents/6thYear/TimeSeries/RevisionsCode/new_plots/gl_rl_wc_g20.txt -a textedit"
   ]
  },
  {
   "cell_type": "code",
   "execution_count": 19,
   "metadata": {
    "collapsed": true
   },
   "outputs": [],
   "source": [
    "cyanos = '''2816ITS11  Syn rubescens\n",
    "2821ITS5  Syn rubescens\n",
    "2821ITS10  Syn rubescens\n",
    "2816ITS7  Syn rubescens\n",
    "2821ITS3  Syn rubescens\n",
    "2821ITS7  Syn rubescens\n",
    "2816ITS1  Cyanobium\n",
    "cITS13001A1\n",
    "cITS12001A1\n",
    "cITS13002A1\n",
    "2821ITS4  Uncultured Synechococcus\n",
    "cITS12005A1\n",
    "2816ITS10  Synechococcus\n",
    "cITS12004A1\n",
    "2816ITS4  Unclutured Cyanobacterium\n",
    "2816ITS12  Uncultured cyanobacterium\n",
    "2816ITS5  Synechococcus\n",
    "2821ITS9  Uncultured Cyanobacterium\n",
    "2816ITS2  Uncultured Cyanobacterium\n",
    "2821ITS12  Uncultured Cyanobacterium\n",
    "2821ITS11  Uncultured Cyanobacterium\n",
    "2816ITS9  Uncultured Cyanobacterium \n",
    "2821ITS2  Uncultured Cyanobacterium\n",
    "2816ITS8  Uncultured Cyanobacterium\n",
    "cITS13004A1\n",
    "cITS13003A1\n",
    "cITS12002A2\n",
    "'''"
   ]
  },
  {
   "cell_type": "code",
   "execution_count": 23,
   "metadata": {
    "collapsed": false
   },
   "outputs": [],
   "source": [
    "ids = []\n",
    "for i in cyanos.split(\"\\n\"):\n",
    "    if len(i.split()) > 1:\n",
    "        ids.append(i.split()[0])\n",
    "    else:\n",
    "        ids.append(i)"
   ]
  },
  {
   "cell_type": "code",
   "execution_count": 24,
   "metadata": {
    "collapsed": false
   },
   "outputs": [
    {
     "data": {
      "text/plain": [
       "['2816ITS11',\n",
       " '2821ITS5',\n",
       " '2821ITS10',\n",
       " '2816ITS7',\n",
       " '2821ITS3',\n",
       " '2821ITS7',\n",
       " '2816ITS1',\n",
       " 'cITS13001A1',\n",
       " 'cITS12001A1',\n",
       " 'cITS13002A1',\n",
       " '2821ITS4',\n",
       " 'cITS12005A1',\n",
       " '2816ITS10',\n",
       " 'cITS12004A1',\n",
       " '2816ITS4',\n",
       " '2816ITS12',\n",
       " '2816ITS5',\n",
       " '2821ITS9',\n",
       " '2816ITS2',\n",
       " '2821ITS12',\n",
       " '2821ITS11',\n",
       " '2816ITS9',\n",
       " '2821ITS2',\n",
       " '2816ITS8',\n",
       " 'cITS13004A1',\n",
       " 'cITS13003A1',\n",
       " 'cITS12002A2',\n",
       " '']"
      ]
     },
     "execution_count": 24,
     "metadata": {},
     "output_type": "execute_result"
    }
   ],
   "source": [
    "ids"
   ]
  },
  {
   "cell_type": "code",
   "execution_count": 30,
   "metadata": {
    "collapsed": false
   },
   "outputs": [
    {
     "name": "stdout",
     "output_type": "stream",
     "text": [
      "seqID\tOrganism\tisolation_source\tcountry\tlat-lon\tFwd-PCR-primer-name\tFwd-PCR-primer-seq\tRev-PCR-primer-name\tRev-PCR-primer-seq\n"
     ]
    }
   ],
   "source": [
    "fpname = \"1247F\"\n",
    "fwdprim = \"CGTACTACAATGGTTGGG\"\n",
    "rpname = \"23S-125R\"\n",
    "revprim = \"GGGTT[C/G/T]CCCCATTC[A/G]G\"\n",
    "gloc = \"43.051967, -75.965185\"\n",
    "lake = \"Fayetteville Green Lakes Surface\"\n",
    "\n",
    "print(\"seqID\", \"Organism\", \"isolation_source\", \"country\", \"lat-lon\", \"Fwd-PCR-primer-name\", \"Fwd-PCR-primer-seq\", \"Rev-PCR-primer-name\", \"Rev-PCR-primer-seq\", sep=\"\\t\")"
   ]
  },
  {
   "cell_type": "code",
   "execution_count": 31,
   "metadata": {
    "collapsed": false
   },
   "outputs": [],
   "source": [
    "fasta = \"/Users/juliambrown/Desktop/Thesis_Data/GLCyano_ITS/2014_ITS_Combined.fas\"\n",
    "outfasta = \"/Users/juliambrown/Documents/6thYear/TimeSeries/RevisionsCode/Cyano_ITS.fasta\"\n",
    "outinfo = \"/Users/juliambrown/Documents/6thYear/TimeSeries/RevisionsCode/Cyano_ITS_info.txt\"\n",
    "\n",
    "with open(fasta) as infile, open(outfasta, \"w\") as out1, open(outinfo, \"w\") as out2:\n",
    "    print(\"seqID\", \"Organism\", \"clone\", \"isolation_source\", \"country\", \"lat-lon\", \"Fwd-PCR-primer-name\", \"Fwd-PCR-primer-seq\", \"Rev-PCR-primer-name\", \"Rev-PCR-primer-seq\", sep=\"\\t\", file=out2)\n",
    "    for name, seq in read_fasta(infile):\n",
    "        abrev = name.split()[0].replace(\"-\",\"\")\n",
    "        if abrev in ids:\n",
    "            print(abrev, \"uncultured cyanobacterium {n}\".format(n=abrev), abrev, lake, \"USA\", loc, fpname, fwdprim, rpname, revprim, sep=\"\\t\", file=out2)\n",
    "            print(\">\", abrev, sep=\"\", file=out1)\n",
    "            for i in range(0, len(seq), 80):\n",
    "                print(seq[i:i+80], file=out1)"
   ]
  },
  {
   "cell_type": "code",
   "execution_count": 32,
   "metadata": {
    "collapsed": true
   },
   "outputs": [],
   "source": [
    "!open /Users/juliambrown/Documents/6thYear/TimeSeries/RevisionsCode/Cyano_ITS.fasta\n",
    "!open /Users/juliambrown/Documents/6thYear/TimeSeries/RevisionsCode/Cyano_ITS_info.txt"
   ]
  },
  {
   "cell_type": "code",
   "execution_count": null,
   "metadata": {
    "collapsed": true
   },
   "outputs": [],
   "source": []
  }
 ],
 "metadata": {
  "kernelspec": {
   "display_name": "Python 2",
   "language": "python",
   "name": "python2"
  },
  "language_info": {
   "codemirror_mode": {
    "name": "ipython",
    "version": 2
   },
   "file_extension": ".py",
   "mimetype": "text/x-python",
   "name": "python",
   "nbconvert_exporter": "python",
   "pygments_lexer": "ipython2",
   "version": "2.7.10"
  }
 },
 "nbformat": 4,
 "nbformat_minor": 0
}
